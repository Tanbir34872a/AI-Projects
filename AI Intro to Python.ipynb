{
 "cells": [
  {
   "cell_type": "code",
   "execution_count": null,
   "id": "8476d45e",
   "metadata": {},
   "outputs": [],
   "source": [
    "my_list=[11,22,33,44,55,66,77,88,99]"
   ]
  },
  {
   "cell_type": "code",
   "execution_count": null,
   "id": "17ab4bb1",
   "metadata": {},
   "outputs": [],
   "source": [
    "def swapper(lists,in1,in2):\n",
    "    temp = lists[in1]\n",
    "    lists[in1] = lists[in2]\n",
    "    lists[in2] = temp"
   ]
  },
  {
   "cell_type": "code",
   "execution_count": null,
   "id": "afabe857",
   "metadata": {},
   "outputs": [],
   "source": [
    "swapper(my_list,0,8)"
   ]
  },
  {
   "cell_type": "code",
   "execution_count": null,
   "id": "f4f04e10",
   "metadata": {},
   "outputs": [],
   "source": [
    "print(my_list)"
   ]
  },
  {
   "cell_type": "code",
   "execution_count": null,
   "id": "257940ca",
   "metadata": {},
   "outputs": [],
   "source": [
    "swapper(my_list,0,-1)"
   ]
  },
  {
   "cell_type": "code",
   "execution_count": null,
   "id": "5953df28",
   "metadata": {},
   "outputs": [],
   "source": [
    "print(my_list)"
   ]
  },
  {
   "cell_type": "code",
   "execution_count": null,
   "id": "295aa8f0",
   "metadata": {},
   "outputs": [],
   "source": [
    "def mini(lists):\n",
    "    smallest = lists[0]\n",
    "    for x in lists:\n",
    "        if smallest > x:\n",
    "            smallest = x\n",
    "    return smallest"
   ]
  },
  {
   "cell_type": "code",
   "execution_count": null,
   "id": "6ed7ef79",
   "metadata": {},
   "outputs": [],
   "source": [
    "def maxi(lists):\n",
    "    largest = lists[0]\n",
    "    for x in lists:\n",
    "        if largest < x:\n",
    "            largest = x\n",
    "    return largest"
   ]
  },
  {
   "cell_type": "code",
   "execution_count": null,
   "id": "e2577d1e",
   "metadata": {},
   "outputs": [],
   "source": [
    "print(mini(my_list))\n",
    "print(maxi(my_list))"
   ]
  },
  {
   "cell_type": "code",
   "execution_count": null,
   "id": "74f7b0f9",
   "metadata": {},
   "outputs": [],
   "source": [
    "odds = [x for x in my_list if x % 2 != 0]"
   ]
  },
  {
   "cell_type": "code",
   "execution_count": null,
   "id": "4bc2cb91",
   "metadata": {},
   "outputs": [],
   "source": [
    "even = [x for x in my_list if x % 2 == 0]"
   ]
  },
  {
   "cell_type": "code",
   "execution_count": null,
   "id": "8d034eb3",
   "metadata": {},
   "outputs": [],
   "source": [
    "print(odds)\n",
    "print(even)"
   ]
  },
  {
   "cell_type": "code",
   "execution_count": null,
   "id": "322a1f9a",
   "metadata": {},
   "outputs": [],
   "source": [
    "def odd_count(lists):\n",
    "    count = 0\n",
    "    for x in lists:\n",
    "        if x % 2 != 0:\n",
    "            count += 1\n",
    "    return count"
   ]
  },
  {
   "cell_type": "code",
   "execution_count": null,
   "id": "2bf83250",
   "metadata": {},
   "outputs": [],
   "source": [
    "def even_count(lists):\n",
    "    count = 0\n",
    "    for x in lists:\n",
    "        if x % 2 == 0:\n",
    "            count += 1\n",
    "    return count"
   ]
  },
  {
   "cell_type": "code",
   "execution_count": null,
   "id": "edd2453b",
   "metadata": {},
   "outputs": [],
   "source": [
    "print(odd_count(my_list))\n",
    "print(even_count(my_list))"
   ]
  },
  {
   "cell_type": "code",
   "execution_count": null,
   "id": "1d217478",
   "metadata": {},
   "outputs": [],
   "source": [
    "def digisum(lists):\n",
    "    total = 0\n",
    "    for x in lists:\n",
    "        element = 0\n",
    "        while x > 0:\n",
    "            element += x % 10\n",
    "            x = int(x / 10)\n",
    "        total += element\n",
    "    return total"
   ]
  },
  {
   "cell_type": "code",
   "execution_count": null,
   "id": "b909657b",
   "metadata": {},
   "outputs": [],
   "source": [
    "print(digisum(my_list))"
   ]
  },
  {
   "cell_type": "raw",
   "id": "44e464ce",
   "metadata": {},
   "source": [
    "Write a python program to calculate the length of a string"
   ]
  },
  {
   "cell_type": "code",
   "execution_count": null,
   "id": "c9114cb5",
   "metadata": {},
   "outputs": [],
   "source": [
    "my_str = \"My name is Tanbir\"\n",
    "print(len(my_str))"
   ]
  },
  {
   "cell_type": "raw",
   "id": "9b596b1e",
   "metadata": {},
   "source": [
    "Write a python program that takes a list of words and returns the largest word and the lenth of the largest word"
   ]
  },
  {
   "cell_type": "code",
   "execution_count": null,
   "id": "f02a754a",
   "metadata": {},
   "outputs": [],
   "source": [
    "my_list = [\"Fish\", \"Burger\", \"Apple\", \"Refrigerator\", \"Zoo\"]\n",
    "def maxi(lists):\n",
    "    largest = lists[0]\n",
    "    for x in lists:\n",
    "        if len(largest) < len(x):\n",
    "            largest = x\n",
    "    return largest\n",
    "print(maxi(my_list))"
   ]
  },
  {
   "cell_type": "raw",
   "id": "5797541a",
   "metadata": {},
   "source": [
    "Write a python program to count the occurance of each word in a given sentence "
   ]
  },
  {
   "cell_type": "code",
   "execution_count": null,
   "id": "7c5e4c17",
   "metadata": {},
   "outputs": [],
   "source": [
    "my_str = \"My name is Tanbir . What is your name ?\"\n",
    "my_list = my_str.split(\" \")\n",
    "my_set = set(my_list)\n",
    "for x in my_set:\n",
    "    a = 0\n",
    "    for y in my_list:\n",
    "        if x==y:\n",
    "            a += 1\n",
    "    print(x +\" occured \" + str(a) + \" times\")"
   ]
  },
  {
   "cell_type": "raw",
   "id": "4ec5c484",
   "metadata": {},
   "source": [
    "Write a python program that takes a word as input and returns maximum frequency character"
   ]
  },
  {
   "cell_type": "code",
   "execution_count": null,
   "id": "b7e24fab",
   "metadata": {},
   "outputs": [],
   "source": [
    "my_str = \"Refrigerator\"\n",
    "my_list = list(my_str)\n",
    "my_set = set(my_list)\n",
    "maxi = 0\n",
    "highest = 'a'\n",
    "for x in my_set:\n",
    "    a = 0\n",
    "    for y in my_list:\n",
    "        if x==y:\n",
    "            a += 1\n",
    "    if maxi < a:\n",
    "        maxi  = a\n",
    "        highest = x\n",
    "print(highest +\" occured \" + str(maxi) + \" times\")"
   ]
  },
  {
   "cell_type": "raw",
   "id": "79f0f729",
   "metadata": {},
   "source": [
    "Write a python program to check if a substing is present in a given string"
   ]
  },
  {
   "cell_type": "code",
   "execution_count": null,
   "id": "feb2f80a",
   "metadata": {},
   "outputs": [],
   "source": [
    "my_str = \"Pneumonoultramicroscopicsilicovolcanoconiosis\"\n",
    "if my_str.find(\"micro\") != -1:\n",
    "    print(\"Substring exists\")\n",
    "else: \n",
    "    print(\"Substring doesn't exist\")"
   ]
  },
  {
   "cell_type": "raw",
   "id": "d58646b8",
   "metadata": {},
   "source": [
    "Write a python program to find the sum of all items in a dictionary"
   ]
  },
  {
   "cell_type": "code",
   "execution_count": null,
   "id": "8e417b6d",
   "metadata": {},
   "outputs": [],
   "source": [
    "my_dictionary  = {\"Apple\": 10, \"Banana\" : 20, \"Strawberry\": 50}\n",
    "a = 0\n",
    "for x in my_dictionary:\n",
    "    a += my_dictionary[x]\n",
    "print(a)"
   ]
  },
  {
   "cell_type": "raw",
   "id": "3c1e7de7",
   "metadata": {},
   "source": [
    "Write a python program to convert list of list into dictionary"
   ]
  },
  {
   "cell_type": "code",
   "execution_count": null,
   "id": "85da9e39",
   "metadata": {},
   "outputs": [],
   "source": [
    "my_list = [[\"Apple\", 10], [\"Banana\", 20], [\"Strawberry\", 50]]\n",
    "print(dict(my_list))"
   ]
  },
  {
   "cell_type": "raw",
   "id": "033bac11",
   "metadata": {},
   "source": [
    "Write a python program to sort the dictionary by the key"
   ]
  },
  {
   "cell_type": "code",
   "execution_count": null,
   "id": "de99112f",
   "metadata": {},
   "outputs": [],
   "source": [
    "my_dictionary  = {\"Banana\" : 700, \"Strawberry\": 50, \"Apple\": 10}\n",
    "print(dict(sorted(my_dictionary.items())))"
   ]
  },
  {
   "cell_type": "code",
   "execution_count": null,
   "id": "088e127d",
   "metadata": {},
   "outputs": [],
   "source": []
  }
 ],
 "metadata": {
  "kernelspec": {
   "display_name": "Python 3 (ipykernel)",
   "language": "python",
   "name": "python3"
  },
  "language_info": {
   "codemirror_mode": {
    "name": "ipython",
    "version": 3
   },
   "file_extension": ".py",
   "mimetype": "text/x-python",
   "name": "python",
   "nbconvert_exporter": "python",
   "pygments_lexer": "ipython3",
   "version": "3.9.12"
  }
 },
 "nbformat": 4,
 "nbformat_minor": 5
}
