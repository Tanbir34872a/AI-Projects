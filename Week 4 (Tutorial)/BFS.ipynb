{
 "cells": [
  {
   "cell_type": "code",
   "execution_count": 1,
   "id": "0132b448",
   "metadata": {},
   "outputs": [],
   "source": [
    "romanian_map = {\n",
    "    'Arad': {'Sibiu':140, 'Zerind':75, 'Timisoara':118},\n",
    "    'Zerind': {'Arad':75, 'Oradea':71},\n",
    "    'Oradea': {'Zerind':71, 'Sibiu': 151},\n",
    "    'Sibiu': {'Arad':140, 'Oradea':151, 'Fagaras':99, 'Rimnicu':80},\n",
    "    'Timisoara': {'Arad': 118, 'Lugoj':111},\n",
    "    'Lugoj': {'Timisoara':111, 'Mehadia':70},\n",
    "    'Mehadia': {'Lugoj': 70, 'Drobeta':75},\n",
    "    'Drobeta': {'Mehadia':75, 'Craiova':120},\n",
    "    'Craiova': {'Drobeta': 120, 'Rimnicu': 146, 'Pitesti': 138},\n",
    "    'Rimnicu': {'Sibiu': 80, 'Craiova': 146, 'Pitesti': 97},\n",
    "    'Fagaras': {'Sibiu':99, 'Bucharest':211},\n",
    "    'Pitesti': {'Rimnicu': 97, 'Craiova':138, 'Bucharest':101},\n",
    "    'Bucharest': {'Fagaras':211, 'Pitesti': 101, 'Giurgiu':90, 'Urziceni':85},\n",
    "    'Giurgiu': {'Bucharest': 90},\n",
    "    'Urziceni': {'Bucharest': 85, 'Vaslui':142, 'Hirsova':98},\n",
    "    'Hirsova': {'Urziceni':98, 'Eforie':86},\n",
    "    'Eforie': {'Hirsova':86},\n",
    "    'Vaslui': {'Iasi': 92, 'Urziceni':142},\n",
    "    'Iasi': {'Vaslui':92, 'Neamt': 87},\n",
    "    'Neamt': {'Iasi':87}\n",
    "}"
   ]
  },
  {
   "cell_type": "code",
   "execution_count": 9,
   "id": "596d8bd9",
   "metadata": {},
   "outputs": [
    {
     "data": {
      "text/plain": [
       "{'Arad': 140, 'Oradea': 151, 'Fagaras': 99, 'Rimnicu': 80}"
      ]
     },
     "execution_count": 9,
     "metadata": {},
     "output_type": "execute_result"
    }
   ],
   "source": [
    "romanian_map['Sibiu']"
   ]
  },
  {
   "cell_type": "code",
   "execution_count": 10,
   "id": "80d79f18",
   "metadata": {},
   "outputs": [
    {
     "data": {
      "text/plain": [
       "dict_keys(['Zerind', 'Sibiu'])"
      ]
     },
     "execution_count": 10,
     "metadata": {},
     "output_type": "execute_result"
    }
   ],
   "source": [
    "romanian_map['Oradea'].keys()"
   ]
  },
  {
   "cell_type": "code",
   "execution_count": 11,
   "id": "b141bce8",
   "metadata": {},
   "outputs": [
    {
     "data": {
      "text/plain": [
       "151"
      ]
     },
     "execution_count": 11,
     "metadata": {},
     "output_type": "execute_result"
    }
   ],
   "source": [
    "romanian_map['Oradea']['Sibiu']"
   ]
  },
  {
   "cell_type": "code",
   "execution_count": 12,
   "id": "dcf9e958",
   "metadata": {},
   "outputs": [],
   "source": [
    "from queue import Queue\n",
    "\n",
    "def bfs(startingNode, destinationNode):\n",
    "    expanded = {} # to store expanded status\n",
    "    expand_sequence = [] # to store the order of traversal\n",
    "    frontier = Queue()\n",
    "\n",
    "    for city in romanian_map.keys():\n",
    "        expanded[city] = False  \n",
    "        \n",
    "        #this will result in putting False as items to each key/city \n",
    "        #{'Arad': False, 'Zerind': False, 'Oradea': False, 'Sibiu': False, \n",
    "        #'Timisoara': False, 'Lugoj': False, 'Mehadia': False, 'Drobeta': False, \n",
    "        #'Craiova': False, 'Rimnicu': False, 'Fagaras': False, 'Pitesti': False, \n",
    "        #'Bucharest': False, 'Giurgiu': False, 'Urziceni': False, 'Hirsova': False, \n",
    "        #'Eforie': False, 'Vaslui': False, 'Iasi': False, 'Neamt': False}\n",
    "    \n",
    "    node = {'City':startingNode,'Path cost':0, 'Path':[startingNode]}\n",
    "    frontier.put(node)    # insert the starting node\n",
    "    #put(item) – Put an item into the queue\n",
    "    \n",
    "    while not frontier.empty():\n",
    "        node = frontier.get()     # selceting the node to expand\n",
    "        #get() – Remove and return an item from the queue. If queue is empty, wait until an item is available.\n",
    "        \n",
    "        u = node['City']\n",
    "        expanded[u] = True\n",
    "        expand_sequence.append(u)\n",
    "        \n",
    "        # expand u\n",
    "        for v in romanian_map[u].keys():\n",
    "            if not expanded[v]: # process if v is not expanded yet                \n",
    "                cost = node['Path cost'] + romanian_map[u][v] \n",
    "                path =  node['Path'] + [v]\n",
    "                vnode = {'City': v,'Path cost': cost,'Path': path}\n",
    "                frontier.put(vnode)# store the new child node in the frontier\n",
    "                # goal test\n",
    "                if v == destinationNode:\n",
    "                    print(vnode)\n",
    "                    print(expand_sequence)\n",
    "                    return vnode['Path'] # breaking from while\n",
    "    print('not found')   "
   ]
  },
  {
   "cell_type": "code",
   "execution_count": 6,
   "id": "1bfd82da",
   "metadata": {},
   "outputs": [
    {
     "name": "stdout",
     "output_type": "stream",
     "text": [
      "{'City': 'Pitesti', 'Path cost': 328, 'Path': ['Oradea', 'Sibiu', 'Rimnicu', 'Pitesti']}\n",
      "['Oradea', 'Zerind', 'Sibiu', 'Arad', 'Arad', 'Fagaras', 'Rimnicu']\n"
     ]
    },
    {
     "data": {
      "text/plain": [
       "['Oradea', 'Sibiu', 'Rimnicu', 'Pitesti']"
      ]
     },
     "execution_count": 6,
     "metadata": {},
     "output_type": "execute_result"
    }
   ],
   "source": [
    "bfs('Oradea', 'Pitesti') # change the soure and destination"
   ]
  },
  {
   "cell_type": "code",
   "execution_count": 7,
   "id": "6e407b61",
   "metadata": {},
   "outputs": [
    {
     "name": "stdout",
     "output_type": "stream",
     "text": [
      "{'City': 'Rimnicu', 'Path cost': 220, 'Path': ['Arad', 'Sibiu', 'Rimnicu']}\n",
      "['Arad', 'Sibiu']\n"
     ]
    },
    {
     "data": {
      "text/plain": [
       "['Arad', 'Sibiu', 'Rimnicu']"
      ]
     },
     "execution_count": 7,
     "metadata": {},
     "output_type": "execute_result"
    }
   ],
   "source": [
    "bfs('Arad','Rimnicu')"
   ]
  },
  {
   "cell_type": "code",
   "execution_count": 13,
   "id": "22b71625",
   "metadata": {},
   "outputs": [
    {
     "name": "stdout",
     "output_type": "stream",
     "text": [
      "{'City': 'Eforie', 'Path cost': 269, 'Path': ['Bucharest', 'Urziceni', 'Hirsova', 'Eforie']}\n",
      "['Bucharest', 'Fagaras', 'Pitesti', 'Giurgiu', 'Urziceni', 'Sibiu', 'Rimnicu', 'Craiova', 'Vaslui', 'Hirsova']\n"
     ]
    },
    {
     "data": {
      "text/plain": [
       "['Bucharest', 'Urziceni', 'Hirsova', 'Eforie']"
      ]
     },
     "execution_count": 13,
     "metadata": {},
     "output_type": "execute_result"
    }
   ],
   "source": [
    "bfs('Bucharest','Eforie')"
   ]
  },
  {
   "cell_type": "code",
   "execution_count": null,
   "id": "f44b6271",
   "metadata": {},
   "outputs": [],
   "source": []
  }
 ],
 "metadata": {
  "kernelspec": {
   "display_name": "Python 3",
   "language": "python",
   "name": "python3"
  },
  "language_info": {
   "codemirror_mode": {
    "name": "ipython",
    "version": 3
   },
   "file_extension": ".py",
   "mimetype": "text/x-python",
   "name": "python",
   "nbconvert_exporter": "python",
   "pygments_lexer": "ipython3",
   "version": "3.8.8"
  }
 },
 "nbformat": 4,
 "nbformat_minor": 5
}
