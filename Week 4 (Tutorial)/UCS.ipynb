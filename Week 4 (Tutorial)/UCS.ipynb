{
 "cells": [
  {
   "cell_type": "code",
   "execution_count": 1,
   "id": "502214d2",
   "metadata": {},
   "outputs": [],
   "source": [
    "romanian_map = {\n",
    "    'Arad': {'Sibiu':140, 'Zerind':75, 'Timisoara':118},\n",
    "    'Zerind': {'Arad':75, 'Oradea':71},\n",
    "    'Oradea': {'Zerind':71, 'Sibiu': 151},\n",
    "    'Sibiu': {'Arad':140, 'Oradea':151, 'Fagaras':99, 'Rimnicu':80},\n",
    "    'Timisoara': {'Arad': 118, 'Lugoj':111},\n",
    "    'Lugoj': {'Timisoara':111, 'Mehadia':70},\n",
    "    'Mehadia': {'Lugoj': 70, 'Drobeta':75},\n",
    "    'Drobeta': {'Mehadia':75, 'Craiova':120},\n",
    "    'Craiova': {'Drobeta': 120, 'Rimnicu': 146, 'Pitesti': 138},\n",
    "    'Rimnicu': {'Sibiu': 80, 'Craiova': 146, 'Pitesti': 97},\n",
    "    'Fagaras': {'Sibiu':99, 'Bucharest':211},\n",
    "    'Pitesti': {'Rimnicu': 97, 'Craiova':138, 'Bucharest':101},\n",
    "    'Bucharest': {'Fagaras':211, 'Pitesti': 101, 'Giurgiu':90, 'Urziceni':85},\n",
    "    'Giurgiu': {'Bucharest': 90},\n",
    "    'Urziceni': {'Bucharest': 85, 'Vaslui':142, 'Hirsova':98},\n",
    "    'Hirsova': {'Urziceni':98, 'Eforie':86},\n",
    "    'Eforie': {'Hirsova':86},\n",
    "    'Vaslui': {'Iasi': 92, 'Urziceni':142},\n",
    "    'Iasi': {'Vaslui':92, 'Neamt': 87},\n",
    "    'Neamt': {'Iasi':87}\n",
    "}\n",
    "\n",
    "\n",
    "from queue import PriorityQueue\n",
    "\n",
    "\n",
    "def ucs(startingNode, destinationNode):\n",
    "    expanded = [] # to store expanded nodes\n",
    "    frontier = PriorityQueue()\n",
    "\n",
    "    snode = (0,startingNode,[startingNode]) #(g(n) = path cost, city name, path)\n",
    "    frontier.put(snode)\n",
    "    \n",
    "    while not frontier.empty():\n",
    "        #print(list(frontier.queue))\n",
    "        unode = frontier.get() # select a node for expansion \n",
    "        #get command dequeues the highest priority elements from the queue.\n",
    "        print(\"current unode:\")\n",
    "        print(unode)\n",
    "        \n",
    "        u = unode[1]\n",
    "        print(u)\n",
    "        if u == destinationNode:# goal test            \n",
    "            #print(unode)\n",
    "            #print(expanded)\n",
    "            print(\"final path:\")\n",
    "            print(unode[2])\n",
    "            return unode[2] # path\n",
    "        \n",
    "        expanded.append(u)\n",
    "        print(\"expanded:\")\n",
    "        print(expanded)\n",
    "        for v in romanian_map[u].keys():#expanding            \n",
    "            if v not in expanded:\n",
    "                cost = unode[0] + romanian_map[u][v] #romanian_map[u][v] is the cost associated in dict\n",
    "                path = unode[2] + [v]\n",
    "                frontier.put((cost,v,path))\n",
    "                print(v + \", Cost: \" +str(cost))\n",
    "                \n",
    "                print(\"current frontier:\")\n",
    "                print(list(frontier.queue))\n",
    "                \n",
    "    print('Failed')"
   ]
  },
  {
   "cell_type": "code",
   "execution_count": 34,
   "id": "2bc5d197",
   "metadata": {},
   "outputs": [
    {
     "name": "stdout",
     "output_type": "stream",
     "text": [
      "current unode:\n",
      "(0, 'Arad', ['Arad'])\n",
      "Arad\n",
      "expanded:\n",
      "['Arad']\n",
      "Sibiu, Cost: 140\n",
      "current frontier:\n",
      "[(140, 'Sibiu', ['Arad', 'Sibiu'])]\n",
      "Zerind, Cost: 75\n",
      "current frontier:\n",
      "[(75, 'Zerind', ['Arad', 'Zerind']), (140, 'Sibiu', ['Arad', 'Sibiu'])]\n",
      "Timisoara, Cost: 118\n",
      "current frontier:\n",
      "[(75, 'Zerind', ['Arad', 'Zerind']), (140, 'Sibiu', ['Arad', 'Sibiu']), (118, 'Timisoara', ['Arad', 'Timisoara'])]\n",
      "current unode:\n",
      "(75, 'Zerind', ['Arad', 'Zerind'])\n",
      "Zerind\n",
      "expanded:\n",
      "['Arad', 'Zerind']\n",
      "Oradea, Cost: 146\n",
      "current frontier:\n",
      "[(118, 'Timisoara', ['Arad', 'Timisoara']), (140, 'Sibiu', ['Arad', 'Sibiu']), (146, 'Oradea', ['Arad', 'Zerind', 'Oradea'])]\n",
      "current unode:\n",
      "(118, 'Timisoara', ['Arad', 'Timisoara'])\n",
      "Timisoara\n",
      "expanded:\n",
      "['Arad', 'Zerind', 'Timisoara']\n",
      "Lugoj, Cost: 229\n",
      "current frontier:\n",
      "[(140, 'Sibiu', ['Arad', 'Sibiu']), (146, 'Oradea', ['Arad', 'Zerind', 'Oradea']), (229, 'Lugoj', ['Arad', 'Timisoara', 'Lugoj'])]\n",
      "current unode:\n",
      "(140, 'Sibiu', ['Arad', 'Sibiu'])\n",
      "Sibiu\n",
      "final path:\n",
      "['Arad', 'Zerind', 'Timisoara']\n",
      "['Arad', 'Sibiu']\n"
     ]
    },
    {
     "data": {
      "text/plain": [
       "['Arad', 'Sibiu']"
      ]
     },
     "execution_count": 34,
     "metadata": {},
     "output_type": "execute_result"
    }
   ],
   "source": [
    "ucs('Arad', 'Sibiu')"
   ]
  },
  {
   "cell_type": "code",
   "execution_count": null,
   "id": "ad330016",
   "metadata": {},
   "outputs": [],
   "source": []
  }
 ],
 "metadata": {
  "kernelspec": {
   "display_name": "Python 3",
   "language": "python",
   "name": "python3"
  },
  "language_info": {
   "codemirror_mode": {
    "name": "ipython",
    "version": 3
   },
   "file_extension": ".py",
   "mimetype": "text/x-python",
   "name": "python",
   "nbconvert_exporter": "python",
   "pygments_lexer": "ipython3",
   "version": "3.8.8"
  }
 },
 "nbformat": 4,
 "nbformat_minor": 5
}
