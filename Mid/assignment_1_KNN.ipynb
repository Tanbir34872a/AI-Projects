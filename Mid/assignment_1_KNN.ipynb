{
  "nbformat": 4,
  "nbformat_minor": 0,
  "metadata": {
    "colab": {
      "provenance": [],
      "gpuType": "T4",
      "authorship_tag": "ABX9TyMUFT492tiKieqqMFF0uZBV",
      "include_colab_link": true
    },
    "kernelspec": {
      "name": "python3",
      "display_name": "Python 3"
    },
    "language_info": {
      "name": "python"
    },
    "accelerator": "GPU"
  },
  "cells": [
    {
      "cell_type": "markdown",
      "metadata": {
        "id": "view-in-github",
        "colab_type": "text"
      },
      "source": [
        "<a href=\"https://colab.research.google.com/github/Tanbir34872a/AI-Projects/blob/main/Mid/assignment_1_KNN.ipynb\" target=\"_parent\"><img src=\"https://colab.research.google.com/assets/colab-badge.svg\" alt=\"Open In Colab\"/></a>"
      ]
    },
    {
      "cell_type": "markdown",
      "source": [
        "# Image Classification Using Cifar-10 Dataset:\n",
        "### A Comparison of Manhattan (L1) and Euclidean (L2) Distances with 5-fold Cross-Validation\n",
        "\n",
        "---\n",
        "\n"
      ],
      "metadata": {
        "id": "ucgEW1x3Trxb"
      }
    },
    {
      "cell_type": "markdown",
      "source": [
        "## Setting Up"
      ],
      "metadata": {
        "id": "t0ZMDP0QThxR"
      }
    },
    {
      "cell_type": "code",
      "execution_count": 1,
      "metadata": {
        "colab": {
          "base_uri": "https://localhost:8080/"
        },
        "id": "1F0S169hQugw",
        "outputId": "320e627a-9ffb-4806-95b0-f3febb28c3d6"
      },
      "outputs": [
        {
          "output_type": "stream",
          "name": "stdout",
          "text": [
            "Cloning into 'CIFAR-10-images'...\n",
            "remote: Enumerating objects: 60027, done.\u001b[K\n",
            "remote: Total 60027 (delta 0), reused 0 (delta 0), pack-reused 60027\u001b[K\n",
            "Receiving objects: 100% (60027/60027), 19.94 MiB | 41.76 MiB/s, done.\n",
            "Resolving deltas: 100% (59990/59990), done.\n",
            "Updating files: 100% (60001/60001), done.\n"
          ]
        }
      ],
      "source": [
        "!git clone https://github.com/YoongiKim/CIFAR-10-images"
      ]
    },
    {
      "cell_type": "code",
      "source": [
        "import cv2\n",
        "import numpy as np\n",
        "#np.set_printoptions(threshold=np.inf)\n",
        "import matplotlib.pyplot as plt\n",
        "import os,glob\n",
        "from os import listdir,makedirs\n",
        "from os.path import isfile,join\n",
        "from tqdm import tqdm\n",
        "import random\n",
        "from sklearn.model_selection import KFold\n",
        "import statistics as st"
      ],
      "metadata": {
        "id": "e7pDCHJkRB-h"
      },
      "execution_count": 2,
      "outputs": []
    },
    {
      "cell_type": "code",
      "source": [
        "Train_Dir = '/content/CIFAR-10-images/test'\n",
        "catagories = os.listdir(Train_Dir)"
      ],
      "metadata": {
        "id": "3oSYRENyRFaP"
      },
      "execution_count": 3,
      "outputs": []
    },
    {
      "cell_type": "markdown",
      "source": [
        "## Dataset & Preprocesing:"
      ],
      "metadata": {
        "id": "dmHGUPRjTGoJ"
      }
    },
    {
      "cell_type": "code",
      "source": [
        "#for setting up training images\n",
        "train_img = []\n",
        "for c in catagories:\n",
        "  path = os.path.join(Train_Dir, c)\n",
        "  print(c, end=\" - \")\n",
        "  for img in tqdm(os.listdir(path)):\n",
        "    img_arr = cv2.imread(os.path.join(path, img),cv2.IMREAD_GRAYSCALE)\n",
        "    img_arr_resize= cv2.resize(img_arr, (32,32))\n",
        "    train_img.append([img_arr_resize, c])"
      ],
      "metadata": {
        "colab": {
          "base_uri": "https://localhost:8080/"
        },
        "id": "6Z41s6TYRSJS",
        "outputId": "b5879b63-bc6b-4106-cd5a-70ceb98d0281"
      },
      "execution_count": 4,
      "outputs": [
        {
          "output_type": "stream",
          "name": "stdout",
          "text": [
            "bird - "
          ]
        },
        {
          "output_type": "stream",
          "name": "stderr",
          "text": [
            "100%|██████████| 1000/1000 [00:00<00:00, 6192.65it/s]\n"
          ]
        },
        {
          "output_type": "stream",
          "name": "stdout",
          "text": [
            "cat - "
          ]
        },
        {
          "output_type": "stream",
          "name": "stderr",
          "text": [
            "100%|██████████| 1000/1000 [00:00<00:00, 13456.44it/s]\n"
          ]
        },
        {
          "output_type": "stream",
          "name": "stdout",
          "text": [
            "dog - "
          ]
        },
        {
          "output_type": "stream",
          "name": "stderr",
          "text": [
            "100%|██████████| 1000/1000 [00:00<00:00, 6351.24it/s]\n"
          ]
        },
        {
          "output_type": "stream",
          "name": "stdout",
          "text": [
            "frog - "
          ]
        },
        {
          "output_type": "stream",
          "name": "stderr",
          "text": [
            "100%|██████████| 1000/1000 [00:00<00:00, 10725.78it/s]\n"
          ]
        },
        {
          "output_type": "stream",
          "name": "stdout",
          "text": [
            "deer - "
          ]
        },
        {
          "output_type": "stream",
          "name": "stderr",
          "text": [
            "100%|██████████| 1000/1000 [00:00<00:00, 11228.47it/s]\n"
          ]
        },
        {
          "output_type": "stream",
          "name": "stdout",
          "text": [
            "automobile - "
          ]
        },
        {
          "output_type": "stream",
          "name": "stderr",
          "text": [
            "100%|██████████| 1000/1000 [00:00<00:00, 8006.51it/s]\n"
          ]
        },
        {
          "output_type": "stream",
          "name": "stdout",
          "text": [
            "truck - "
          ]
        },
        {
          "output_type": "stream",
          "name": "stderr",
          "text": [
            "100%|██████████| 1000/1000 [00:00<00:00, 8110.59it/s]\n"
          ]
        },
        {
          "output_type": "stream",
          "name": "stdout",
          "text": [
            "horse - "
          ]
        },
        {
          "output_type": "stream",
          "name": "stderr",
          "text": [
            "100%|██████████| 1000/1000 [00:00<00:00, 12292.19it/s]\n"
          ]
        },
        {
          "output_type": "stream",
          "name": "stdout",
          "text": [
            "ship - "
          ]
        },
        {
          "output_type": "stream",
          "name": "stderr",
          "text": [
            "100%|██████████| 1000/1000 [00:00<00:00, 7688.94it/s]\n"
          ]
        },
        {
          "output_type": "stream",
          "name": "stdout",
          "text": [
            "airplane - "
          ]
        },
        {
          "output_type": "stream",
          "name": "stderr",
          "text": [
            "100%|██████████| 1000/1000 [00:00<00:00, 11273.71it/s]\n"
          ]
        }
      ]
    },
    {
      "cell_type": "markdown",
      "source": [
        "## Model Building and Evaluation:"
      ],
      "metadata": {
        "id": "Xe8PHlZ4p0YM"
      }
    },
    {
      "cell_type": "code",
      "source": [
        "random.shuffle(train_img)"
      ],
      "metadata": {
        "id": "Ikzd4G0NpzRI"
      },
      "execution_count": 5,
      "outputs": []
    },
    {
      "cell_type": "code",
      "source": [
        "kf = KFold(n_splits=5, random_state=None, shuffle=True)\n",
        "res = []\n",
        "k_values = [22, 45, 90, 180, 360]\n",
        "for (i,(train_index, test_index)),k in zip(enumerate(kf.split(train_img)),k_values):\n",
        "    accuracy = [0,0] #[l1,l2]\n",
        "    for x in tqdm(test_index):\n",
        "        testData = cv2.calcHist([train_img[x][0]],[0],None,[256],[0,256])\n",
        "        l1 = []\n",
        "        l2 = []\n",
        "        for y in train_index:\n",
        "            trainData = cv2.calcHist([train_img[y][0]],[0],None,[256],[0,256])\n",
        "            d = np.sum(abs(testData-trainData))\n",
        "            l1.append(d)\n",
        "            d = np.sqrt(np.sum((testData-trainData)**2))\n",
        "            l2.append(d)\n",
        "        l1_i = np.argsort(l1)\n",
        "        l2_i = np.argsort(l2)\n",
        "        comp = []\n",
        "        for j in l1_i[:k]:\n",
        "            comp.append(train_img[j][1])\n",
        "        if st.mode(comp) == train_img[x][1]:\n",
        "            accuracy[0] += 1\n",
        "        for j in l2_i[:k]:\n",
        "            comp.append(train_img[j][1])\n",
        "        if st.mode(comp) == train_img[x][1]:\n",
        "            accuracy[1] += 1\n",
        "    res.append(accuracy)"
      ],
      "metadata": {
        "colab": {
          "base_uri": "https://localhost:8080/"
        },
        "id": "9dnJwWUFqIZM",
        "outputId": "1b47ca7b-d270-47cf-d67c-4371215f42b9"
      },
      "execution_count": 6,
      "outputs": [
        {
          "output_type": "stream",
          "name": "stderr",
          "text": [
            "100%|██████████| 2000/2000 [06:17<00:00,  5.30it/s]\n",
            "100%|██████████| 2000/2000 [06:05<00:00,  5.47it/s]\n",
            "100%|██████████| 2000/2000 [06:00<00:00,  5.54it/s]\n",
            "100%|██████████| 2000/2000 [05:55<00:00,  5.62it/s]\n",
            "100%|██████████| 2000/2000 [05:59<00:00,  5.56it/s]\n"
          ]
        }
      ]
    },
    {
      "cell_type": "markdown",
      "source": [
        "## Results and Analysis:"
      ],
      "metadata": {
        "id": "RPNoDzea08He"
      }
    },
    {
      "cell_type": "code",
      "source": [
        "L1_acc = []\n",
        "L2_acc = []\n",
        "for a, b in res:\n",
        "  L1_acc.append(a*100/2000)\n",
        "  L2_acc.append(b*100/2000)"
      ],
      "metadata": {
        "id": "tCuzcIMlqi0r"
      },
      "execution_count": 7,
      "outputs": []
    },
    {
      "cell_type": "code",
      "source": [
        "plt.figure()\n",
        "\n",
        "plt.plot(k_values, L1_acc)\n",
        "plt.plot(k_values, L2_acc)\n",
        "plt.legend(['Manhattan (L1)','Euclidean (L2)'])\n",
        "plt.xlabel('K')\n",
        "plt.ylabel('Accuracy (in Percentage)')\n",
        "plt.title('Impact of Different Values of K')\n",
        "\n",
        "plt.show()"
      ],
      "metadata": {
        "id": "dokR7N7V_Rt6",
        "colab": {
          "base_uri": "https://localhost:8080/",
          "height": 472
        },
        "outputId": "aa104393-69b4-48ed-f47c-9b73cedc573e"
      },
      "execution_count": 8,
      "outputs": [
        {
          "output_type": "display_data",
          "data": {
            "text/plain": [
              "<Figure size 640x480 with 1 Axes>"
            ],
            "image/png": "[encoded data removed]"
          },
          "metadata": {}
        }
      ]
    }
  ]
}